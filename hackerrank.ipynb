{
 "cells": [
  {
   "cell_type": "code",
   "execution_count": 1,
   "metadata": {
    "collapsed": true
   },
   "outputs": [],
   "source": [
    "import numpy as np\n",
    "import pandas as pd\n",
    "import matplotlib.pyplot as plt\n",
    "from matplotlib import style\n",
    "import seaborn as sns\n",
    "import squarify\n",
    "%matplotlib inline\n",
    "\n",
    "style.use('seaborn')"
   ]
  },
  {
   "cell_type": "code",
   "execution_count": 2,
   "metadata": {},
   "outputs": [
    {
     "name": "stderr",
     "output_type": "stream",
     "text": [
      "C:\\Users\\rijhwani\\Anaconda3\\lib\\site-packages\\IPython\\core\\interactiveshell.py:2698: DtypeWarning: Columns (10,19,138) have mixed types. Specify dtype option on import or set low_memory=False.\n",
      "  interactivity=interactivity, compiler=compiler, result=result)\n",
      "C:\\Users\\rijhwani\\Anaconda3\\lib\\site-packages\\IPython\\core\\interactiveshell.py:2698: DtypeWarning: Columns (3,10,19,137,138) have mixed types. Specify dtype option on import or set low_memory=False.\n",
      "  interactivity=interactivity, compiler=compiler, result=result)\n"
     ]
    }
   ],
   "source": [
    "codebook=pd.read_csv('HackerRank-Developer-Survey-2018-Codebook.csv')\n",
    "numeric_mapping=pd.read_csv('HackerRank-Developer-Survey-2018-Numeric-Mapping.csv')\n",
    "numeric=pd.read_csv('HackerRank-Developer-Survey-2018-Numeric.csv', na_values=['#NULL!', 'nan'])\n",
    "values=pd.read_csv('HackerRank-Developer-Survey-2018-Values.csv', na_values=['#NULL!', 'nan'])"
   ]
  },
  {
   "cell_type": "code",
   "execution_count": 3,
   "metadata": {},
   "outputs": [
    {
     "data": {
      "text/html": [
       "<div>\n",
       "<style>\n",
       "    .dataframe thead tr:only-child th {\n",
       "        text-align: right;\n",
       "    }\n",
       "\n",
       "    .dataframe thead th {\n",
       "        text-align: left;\n",
       "    }\n",
       "\n",
       "    .dataframe tbody tr th {\n",
       "        vertical-align: top;\n",
       "    }\n",
       "</style>\n",
       "<table border=\"1\" class=\"dataframe\">\n",
       "  <thead>\n",
       "    <tr style=\"text-align: right;\">\n",
       "      <th></th>\n",
       "      <th>Data Field</th>\n",
       "      <th>Survey Question</th>\n",
       "      <th>Notes</th>\n",
       "    </tr>\n",
       "  </thead>\n",
       "  <tbody>\n",
       "    <tr>\n",
       "      <th>0</th>\n",
       "      <td>RespondentID</td>\n",
       "      <td>NaN</td>\n",
       "      <td>Respondent ID</td>\n",
       "    </tr>\n",
       "    <tr>\n",
       "      <th>1</th>\n",
       "      <td>StartDate</td>\n",
       "      <td>NaN</td>\n",
       "      <td>When did they start (date and time)</td>\n",
       "    </tr>\n",
       "    <tr>\n",
       "      <th>2</th>\n",
       "      <td>EndDate</td>\n",
       "      <td>NaN</td>\n",
       "      <td>When did they end (date and time)</td>\n",
       "    </tr>\n",
       "    <tr>\n",
       "      <th>3</th>\n",
       "      <td>CountryNumeric2</td>\n",
       "      <td>NaN</td>\n",
       "      <td>see Country-Code-Mapping.csv</td>\n",
       "    </tr>\n",
       "    <tr>\n",
       "      <th>4</th>\n",
       "      <td>q1AgeBeginCoding</td>\n",
       "      <td>At what age did you start coding</td>\n",
       "      <td>NaN</td>\n",
       "    </tr>\n",
       "  </tbody>\n",
       "</table>\n",
       "</div>"
      ],
      "text/plain": [
       "         Data Field                   Survey Question  \\\n",
       "0      RespondentID                               NaN   \n",
       "1         StartDate                               NaN   \n",
       "2           EndDate                               NaN   \n",
       "3   CountryNumeric2                               NaN   \n",
       "4  q1AgeBeginCoding  At what age did you start coding   \n",
       "\n",
       "                                 Notes  \n",
       "0                        Respondent ID  \n",
       "1  When did they start (date and time)  \n",
       "2    When did they end (date and time)  \n",
       "3         see Country-Code-Mapping.csv  \n",
       "4                                  NaN  "
      ]
     },
     "execution_count": 3,
     "metadata": {},
     "output_type": "execute_result"
    }
   ],
   "source": [
    "codebook.head()"
   ]
  },
  {
   "cell_type": "code",
   "execution_count": 4,
   "metadata": {},
   "outputs": [
    {
     "data": {
      "text/html": [
       "<div>\n",
       "<style>\n",
       "    .dataframe thead tr:only-child th {\n",
       "        text-align: right;\n",
       "    }\n",
       "\n",
       "    .dataframe thead th {\n",
       "        text-align: left;\n",
       "    }\n",
       "\n",
       "    .dataframe tbody tr th {\n",
       "        vertical-align: top;\n",
       "    }\n",
       "</style>\n",
       "<table border=\"1\" class=\"dataframe\">\n",
       "  <thead>\n",
       "    <tr style=\"text-align: right;\">\n",
       "      <th></th>\n",
       "      <th>Data Field</th>\n",
       "      <th>Value</th>\n",
       "      <th>Label</th>\n",
       "    </tr>\n",
       "  </thead>\n",
       "  <tbody>\n",
       "    <tr>\n",
       "      <th>0</th>\n",
       "      <td>q1AgeBeginCoding</td>\n",
       "      <td>1</td>\n",
       "      <td>5 - 10 years old</td>\n",
       "    </tr>\n",
       "    <tr>\n",
       "      <th>1</th>\n",
       "      <td>q1AgeBeginCoding</td>\n",
       "      <td>2</td>\n",
       "      <td>11 - 15 years old</td>\n",
       "    </tr>\n",
       "    <tr>\n",
       "      <th>2</th>\n",
       "      <td>q1AgeBeginCoding</td>\n",
       "      <td>3</td>\n",
       "      <td>16 - 20 years old</td>\n",
       "    </tr>\n",
       "    <tr>\n",
       "      <th>3</th>\n",
       "      <td>q1AgeBeginCoding</td>\n",
       "      <td>4</td>\n",
       "      <td>21 - 25 years old</td>\n",
       "    </tr>\n",
       "    <tr>\n",
       "      <th>4</th>\n",
       "      <td>q1AgeBeginCoding</td>\n",
       "      <td>5</td>\n",
       "      <td>26 - 30 years old</td>\n",
       "    </tr>\n",
       "  </tbody>\n",
       "</table>\n",
       "</div>"
      ],
      "text/plain": [
       "         Data Field  Value              Label\n",
       "0  q1AgeBeginCoding      1   5 - 10 years old\n",
       "1  q1AgeBeginCoding      2  11 - 15 years old\n",
       "2  q1AgeBeginCoding      3  16 - 20 years old\n",
       "3  q1AgeBeginCoding      4  21 - 25 years old\n",
       "4  q1AgeBeginCoding      5  26 - 30 years old"
      ]
     },
     "execution_count": 4,
     "metadata": {},
     "output_type": "execute_result"
    }
   ],
   "source": [
    "numeric_mapping.head()"
   ]
  },
  {
   "cell_type": "code",
   "execution_count": 5,
   "metadata": {},
   "outputs": [
    {
     "data": {
      "text/html": [
       "<div>\n",
       "<style>\n",
       "    .dataframe thead tr:only-child th {\n",
       "        text-align: right;\n",
       "    }\n",
       "\n",
       "    .dataframe thead th {\n",
       "        text-align: left;\n",
       "    }\n",
       "\n",
       "    .dataframe tbody tr th {\n",
       "        vertical-align: top;\n",
       "    }\n",
       "</style>\n",
       "<table border=\"1\" class=\"dataframe\">\n",
       "  <thead>\n",
       "    <tr style=\"text-align: right;\">\n",
       "      <th></th>\n",
       "      <th>RespondentID</th>\n",
       "      <th>StartDate</th>\n",
       "      <th>EndDate</th>\n",
       "      <th>CountryNumeric2</th>\n",
       "      <th>q1AgeBeginCoding</th>\n",
       "      <th>q2Age</th>\n",
       "      <th>q3Gender</th>\n",
       "      <th>q4Education</th>\n",
       "      <th>q0004_other</th>\n",
       "      <th>q5DegreeFocus</th>\n",
       "      <th>...</th>\n",
       "      <th>q30LearnCodeOther</th>\n",
       "      <th>q0030_other</th>\n",
       "      <th>q31Level3</th>\n",
       "      <th>q32RecommendHackerRank</th>\n",
       "      <th>q0032_other</th>\n",
       "      <th>q33HackerRankChallforJob</th>\n",
       "      <th>q34PositiveExp</th>\n",
       "      <th>q34IdealLengHackerRankTest</th>\n",
       "      <th>q0035_other</th>\n",
       "      <th>q36Level4</th>\n",
       "    </tr>\n",
       "  </thead>\n",
       "  <tbody>\n",
       "    <tr>\n",
       "      <th>0</th>\n",
       "      <td>6464453728</td>\n",
       "      <td>10/19/17 11:51</td>\n",
       "      <td>10/20/17 12:05</td>\n",
       "      <td>148.0</td>\n",
       "      <td>3.0</td>\n",
       "      <td>3.0</td>\n",
       "      <td>2.0</td>\n",
       "      <td>3.0</td>\n",
       "      <td>NaN</td>\n",
       "      <td>1.0</td>\n",
       "      <td>...</td>\n",
       "      <td>1</td>\n",
       "      <td>datacamp</td>\n",
       "      <td>1</td>\n",
       "      <td>1.0</td>\n",
       "      <td>NaN</td>\n",
       "      <td>2.0</td>\n",
       "      <td>NaN</td>\n",
       "      <td>NaN</td>\n",
       "      <td>NaN</td>\n",
       "      <td>2.0</td>\n",
       "    </tr>\n",
       "    <tr>\n",
       "      <th>1</th>\n",
       "      <td>6478031510</td>\n",
       "      <td>10/26/17 6:18</td>\n",
       "      <td>10/26/17 7:49</td>\n",
       "      <td>164.0</td>\n",
       "      <td>3.0</td>\n",
       "      <td>4.0</td>\n",
       "      <td>1.0</td>\n",
       "      <td>7.0</td>\n",
       "      <td>NaN</td>\n",
       "      <td>2.0</td>\n",
       "      <td>...</td>\n",
       "      <td>0</td>\n",
       "      <td>NaN</td>\n",
       "      <td>1</td>\n",
       "      <td>1.0</td>\n",
       "      <td>NaN</td>\n",
       "      <td>2.0</td>\n",
       "      <td>NaN</td>\n",
       "      <td>NaN</td>\n",
       "      <td>NaN</td>\n",
       "      <td>2.0</td>\n",
       "    </tr>\n",
       "    <tr>\n",
       "      <th>2</th>\n",
       "      <td>6464392829</td>\n",
       "      <td>10/19/17 10:44</td>\n",
       "      <td>10/19/17 10:56</td>\n",
       "      <td>98.0</td>\n",
       "      <td>2.0</td>\n",
       "      <td>2.0</td>\n",
       "      <td>2.0</td>\n",
       "      <td>3.0</td>\n",
       "      <td>NaN</td>\n",
       "      <td>2.0</td>\n",
       "      <td>...</td>\n",
       "      <td>0</td>\n",
       "      <td>NaN</td>\n",
       "      <td>1</td>\n",
       "      <td>1.0</td>\n",
       "      <td>NaN</td>\n",
       "      <td>2.0</td>\n",
       "      <td>NaN</td>\n",
       "      <td>NaN</td>\n",
       "      <td>NaN</td>\n",
       "      <td>2.0</td>\n",
       "    </tr>\n",
       "    <tr>\n",
       "      <th>3</th>\n",
       "      <td>6481629912</td>\n",
       "      <td>10/27/17 1:51</td>\n",
       "      <td>10/27/17 2:05</td>\n",
       "      <td>43.0</td>\n",
       "      <td>2.0</td>\n",
       "      <td>2.0</td>\n",
       "      <td>1.0</td>\n",
       "      <td>5.0</td>\n",
       "      <td>NaN</td>\n",
       "      <td>1.0</td>\n",
       "      <td>...</td>\n",
       "      <td>0</td>\n",
       "      <td>NaN</td>\n",
       "      <td>1</td>\n",
       "      <td>1.0</td>\n",
       "      <td>NaN</td>\n",
       "      <td>2.0</td>\n",
       "      <td>NaN</td>\n",
       "      <td>NaN</td>\n",
       "      <td>NaN</td>\n",
       "      <td>3.0</td>\n",
       "    </tr>\n",
       "    <tr>\n",
       "      <th>4</th>\n",
       "      <td>6488385057</td>\n",
       "      <td>10/31/17 11:46</td>\n",
       "      <td>10/31/17 11:59</td>\n",
       "      <td>NaN</td>\n",
       "      <td>3.0</td>\n",
       "      <td>4.0</td>\n",
       "      <td>2.0</td>\n",
       "      <td>5.0</td>\n",
       "      <td>NaN</td>\n",
       "      <td>0.0</td>\n",
       "      <td>...</td>\n",
       "      <td>1</td>\n",
       "      <td>Blogs/articles by industry leaders</td>\n",
       "      <td>1</td>\n",
       "      <td>1.0</td>\n",
       "      <td>NaN</td>\n",
       "      <td>2.0</td>\n",
       "      <td>NaN</td>\n",
       "      <td>NaN</td>\n",
       "      <td>NaN</td>\n",
       "      <td>3.0</td>\n",
       "    </tr>\n",
       "  </tbody>\n",
       "</table>\n",
       "<p>5 rows × 251 columns</p>\n",
       "</div>"
      ],
      "text/plain": [
       "   RespondentID       StartDate         EndDate  CountryNumeric2  \\\n",
       "0    6464453728  10/19/17 11:51  10/20/17 12:05            148.0   \n",
       "1    6478031510   10/26/17 6:18   10/26/17 7:49            164.0   \n",
       "2    6464392829  10/19/17 10:44  10/19/17 10:56             98.0   \n",
       "3    6481629912   10/27/17 1:51   10/27/17 2:05             43.0   \n",
       "4    6488385057  10/31/17 11:46  10/31/17 11:59              NaN   \n",
       "\n",
       "   q1AgeBeginCoding  q2Age  q3Gender  q4Education q0004_other  q5DegreeFocus  \\\n",
       "0               3.0    3.0       2.0          3.0         NaN            1.0   \n",
       "1               3.0    4.0       1.0          7.0         NaN            2.0   \n",
       "2               2.0    2.0       2.0          3.0         NaN            2.0   \n",
       "3               2.0    2.0       1.0          5.0         NaN            1.0   \n",
       "4               3.0    4.0       2.0          5.0         NaN            0.0   \n",
       "\n",
       "     ...    q30LearnCodeOther                         q0030_other  q31Level3  \\\n",
       "0    ...                    1                            datacamp          1   \n",
       "1    ...                    0                                 NaN          1   \n",
       "2    ...                    0                                 NaN          1   \n",
       "3    ...                    0                                 NaN          1   \n",
       "4    ...                    1  Blogs/articles by industry leaders          1   \n",
       "\n",
       "   q32RecommendHackerRank  q0032_other  q33HackerRankChallforJob  \\\n",
       "0                     1.0          NaN                       2.0   \n",
       "1                     1.0          NaN                       2.0   \n",
       "2                     1.0          NaN                       2.0   \n",
       "3                     1.0          NaN                       2.0   \n",
       "4                     1.0          NaN                       2.0   \n",
       "\n",
       "  q34PositiveExp  q34IdealLengHackerRankTest  q0035_other q36Level4  \n",
       "0            NaN                         NaN          NaN       2.0  \n",
       "1            NaN                         NaN          NaN       2.0  \n",
       "2            NaN                         NaN          NaN       2.0  \n",
       "3            NaN                         NaN          NaN       3.0  \n",
       "4            NaN                         NaN          NaN       3.0  \n",
       "\n",
       "[5 rows x 251 columns]"
      ]
     },
     "execution_count": 5,
     "metadata": {},
     "output_type": "execute_result"
    }
   ],
   "source": [
    "numeric.head()"
   ]
  },
  {
   "cell_type": "code",
   "execution_count": 6,
   "metadata": {},
   "outputs": [
    {
     "data": {
      "text/html": [
       "<div>\n",
       "<style>\n",
       "    .dataframe thead tr:only-child th {\n",
       "        text-align: right;\n",
       "    }\n",
       "\n",
       "    .dataframe thead th {\n",
       "        text-align: left;\n",
       "    }\n",
       "\n",
       "    .dataframe tbody tr th {\n",
       "        vertical-align: top;\n",
       "    }\n",
       "</style>\n",
       "<table border=\"1\" class=\"dataframe\">\n",
       "  <thead>\n",
       "    <tr style=\"text-align: right;\">\n",
       "      <th></th>\n",
       "      <th>RespondentID</th>\n",
       "      <th>StartDate</th>\n",
       "      <th>EndDate</th>\n",
       "      <th>CountryNumeric2</th>\n",
       "      <th>q1AgeBeginCoding</th>\n",
       "      <th>q2Age</th>\n",
       "      <th>q3Gender</th>\n",
       "      <th>q4Education</th>\n",
       "      <th>q0004_other</th>\n",
       "      <th>q5DegreeFocus</th>\n",
       "      <th>...</th>\n",
       "      <th>q30LearnCodeOther</th>\n",
       "      <th>q0030_other</th>\n",
       "      <th>q31Level3</th>\n",
       "      <th>q32RecommendHackerRank</th>\n",
       "      <th>q0032_other</th>\n",
       "      <th>q33HackerRankChallforJob</th>\n",
       "      <th>q34PositiveExp</th>\n",
       "      <th>q34IdealLengHackerRankTest</th>\n",
       "      <th>q0035_other</th>\n",
       "      <th>q36Level4</th>\n",
       "    </tr>\n",
       "  </thead>\n",
       "  <tbody>\n",
       "    <tr>\n",
       "      <th>0</th>\n",
       "      <td>6464453728</td>\n",
       "      <td>10/19/17 11:51</td>\n",
       "      <td>10/20/17 12:05</td>\n",
       "      <td>South Korea</td>\n",
       "      <td>16 - 20 years old</td>\n",
       "      <td>18 - 24 years old</td>\n",
       "      <td>Female</td>\n",
       "      <td>Some college</td>\n",
       "      <td>NaN</td>\n",
       "      <td>Computer Science</td>\n",
       "      <td>...</td>\n",
       "      <td>Other (please specify)</td>\n",
       "      <td>datacamp</td>\n",
       "      <td>num%2 == 0</td>\n",
       "      <td>Yes</td>\n",
       "      <td>NaN</td>\n",
       "      <td>No</td>\n",
       "      <td>NaN</td>\n",
       "      <td>NaN</td>\n",
       "      <td>NaN</td>\n",
       "      <td>Queue</td>\n",
       "    </tr>\n",
       "    <tr>\n",
       "      <th>1</th>\n",
       "      <td>6478031510</td>\n",
       "      <td>10/26/17 6:18</td>\n",
       "      <td>10/26/17 7:49</td>\n",
       "      <td>Ukraine</td>\n",
       "      <td>16 - 20 years old</td>\n",
       "      <td>25 - 34 years old</td>\n",
       "      <td>Male</td>\n",
       "      <td>Post graduate degree (Masters, PhD)</td>\n",
       "      <td>NaN</td>\n",
       "      <td>Other STEM (science, technology, engineering, ...</td>\n",
       "      <td>...</td>\n",
       "      <td>NaN</td>\n",
       "      <td>NaN</td>\n",
       "      <td>num%2 == 0</td>\n",
       "      <td>Yes</td>\n",
       "      <td>NaN</td>\n",
       "      <td>No</td>\n",
       "      <td>NaN</td>\n",
       "      <td>NaN</td>\n",
       "      <td>NaN</td>\n",
       "      <td>Queue</td>\n",
       "    </tr>\n",
       "    <tr>\n",
       "      <th>2</th>\n",
       "      <td>6464392829</td>\n",
       "      <td>10/19/17 10:44</td>\n",
       "      <td>10/19/17 10:56</td>\n",
       "      <td>Malaysia</td>\n",
       "      <td>11 - 15 years old</td>\n",
       "      <td>12 - 18 years old</td>\n",
       "      <td>Female</td>\n",
       "      <td>Some college</td>\n",
       "      <td>NaN</td>\n",
       "      <td>Other STEM (science, technology, engineering, ...</td>\n",
       "      <td>...</td>\n",
       "      <td>NaN</td>\n",
       "      <td>NaN</td>\n",
       "      <td>num%2 == 0</td>\n",
       "      <td>Yes</td>\n",
       "      <td>NaN</td>\n",
       "      <td>No</td>\n",
       "      <td>NaN</td>\n",
       "      <td>NaN</td>\n",
       "      <td>NaN</td>\n",
       "      <td>Queue</td>\n",
       "    </tr>\n",
       "    <tr>\n",
       "      <th>3</th>\n",
       "      <td>6481629912</td>\n",
       "      <td>10/27/17 1:51</td>\n",
       "      <td>10/27/17 2:05</td>\n",
       "      <td>Curaçao</td>\n",
       "      <td>11 - 15 years old</td>\n",
       "      <td>12 - 18 years old</td>\n",
       "      <td>Male</td>\n",
       "      <td>College graduate</td>\n",
       "      <td>NaN</td>\n",
       "      <td>Computer Science</td>\n",
       "      <td>...</td>\n",
       "      <td>NaN</td>\n",
       "      <td>NaN</td>\n",
       "      <td>num%2 == 0</td>\n",
       "      <td>Yes</td>\n",
       "      <td>NaN</td>\n",
       "      <td>No</td>\n",
       "      <td>NaN</td>\n",
       "      <td>NaN</td>\n",
       "      <td>NaN</td>\n",
       "      <td>Hashmap</td>\n",
       "    </tr>\n",
       "    <tr>\n",
       "      <th>4</th>\n",
       "      <td>6488385057</td>\n",
       "      <td>10/31/17 11:46</td>\n",
       "      <td>10/31/17 11:59</td>\n",
       "      <td>NaN</td>\n",
       "      <td>16 - 20 years old</td>\n",
       "      <td>25 - 34 years old</td>\n",
       "      <td>Female</td>\n",
       "      <td>College graduate</td>\n",
       "      <td>NaN</td>\n",
       "      <td>NaN</td>\n",
       "      <td>...</td>\n",
       "      <td>Other (please specify)</td>\n",
       "      <td>Blogs/articles by industry leaders</td>\n",
       "      <td>num%2 == 0</td>\n",
       "      <td>Yes</td>\n",
       "      <td>NaN</td>\n",
       "      <td>No</td>\n",
       "      <td>NaN</td>\n",
       "      <td>NaN</td>\n",
       "      <td>NaN</td>\n",
       "      <td>Hashmap</td>\n",
       "    </tr>\n",
       "  </tbody>\n",
       "</table>\n",
       "<p>5 rows × 251 columns</p>\n",
       "</div>"
      ],
      "text/plain": [
       "   RespondentID       StartDate         EndDate CountryNumeric2  \\\n",
       "0    6464453728  10/19/17 11:51  10/20/17 12:05     South Korea   \n",
       "1    6478031510   10/26/17 6:18   10/26/17 7:49         Ukraine   \n",
       "2    6464392829  10/19/17 10:44  10/19/17 10:56        Malaysia   \n",
       "3    6481629912   10/27/17 1:51   10/27/17 2:05         Curaçao   \n",
       "4    6488385057  10/31/17 11:46  10/31/17 11:59             NaN   \n",
       "\n",
       "    q1AgeBeginCoding              q2Age q3Gender  \\\n",
       "0  16 - 20 years old  18 - 24 years old   Female   \n",
       "1  16 - 20 years old  25 - 34 years old     Male   \n",
       "2  11 - 15 years old  12 - 18 years old   Female   \n",
       "3  11 - 15 years old  12 - 18 years old     Male   \n",
       "4  16 - 20 years old  25 - 34 years old   Female   \n",
       "\n",
       "                           q4Education q0004_other  \\\n",
       "0                         Some college         NaN   \n",
       "1  Post graduate degree (Masters, PhD)         NaN   \n",
       "2                         Some college         NaN   \n",
       "3                     College graduate         NaN   \n",
       "4                     College graduate         NaN   \n",
       "\n",
       "                                       q5DegreeFocus    ...     \\\n",
       "0                                   Computer Science    ...      \n",
       "1  Other STEM (science, technology, engineering, ...    ...      \n",
       "2  Other STEM (science, technology, engineering, ...    ...      \n",
       "3                                   Computer Science    ...      \n",
       "4                                                NaN    ...      \n",
       "\n",
       "        q30LearnCodeOther                         q0030_other   q31Level3  \\\n",
       "0  Other (please specify)                            datacamp  num%2 == 0   \n",
       "1                     NaN                                 NaN  num%2 == 0   \n",
       "2                     NaN                                 NaN  num%2 == 0   \n",
       "3                     NaN                                 NaN  num%2 == 0   \n",
       "4  Other (please specify)  Blogs/articles by industry leaders  num%2 == 0   \n",
       "\n",
       "  q32RecommendHackerRank q0032_other q33HackerRankChallforJob q34PositiveExp  \\\n",
       "0                    Yes         NaN                       No            NaN   \n",
       "1                    Yes         NaN                       No            NaN   \n",
       "2                    Yes         NaN                       No            NaN   \n",
       "3                    Yes         NaN                       No            NaN   \n",
       "4                    Yes         NaN                       No            NaN   \n",
       "\n",
       "  q34IdealLengHackerRankTest q0035_other q36Level4  \n",
       "0                        NaN         NaN     Queue  \n",
       "1                        NaN         NaN     Queue  \n",
       "2                        NaN         NaN     Queue  \n",
       "3                        NaN         NaN   Hashmap  \n",
       "4                        NaN         NaN   Hashmap  \n",
       "\n",
       "[5 rows x 251 columns]"
      ]
     },
     "execution_count": 6,
     "metadata": {},
     "output_type": "execute_result"
    }
   ],
   "source": [
    "values.head()"
   ]
  },
  {
   "cell_type": "code",
   "execution_count": 7,
   "metadata": {
    "collapsed": true
   },
   "outputs": [],
   "source": [
    "codebook.columns=['FieldName','Question','Notes']\n",
    "codebook.set_index('FieldName',inplace=True)\n",
    "numeric_mapping.set_index('Data Field',inplace=True)"
   ]
  },
  {
   "cell_type": "code",
   "execution_count": 8,
   "metadata": {},
   "outputs": [
    {
     "name": "stdout",
     "output_type": "stream",
     "text": [
      "<class 'pandas.core.frame.DataFrame'>\n",
      "Index: 452 entries, q1AgeBeginCoding to q36Level4\n",
      "Data columns (total 2 columns):\n",
      "Value    452 non-null int64\n",
      "Label    452 non-null object\n",
      "dtypes: int64(1), object(1)\n",
      "memory usage: 10.6+ KB\n"
     ]
    }
   ],
   "source": [
    "numeric_mapping.info()"
   ]
  },
  {
   "cell_type": "code",
   "execution_count": 9,
   "metadata": {
    "collapsed": true
   },
   "outputs": [],
   "source": [
    "numeric_mapping=numeric_mapping.Value.astype('float')"
   ]
  },
  {
   "cell_type": "code",
   "execution_count": 10,
   "metadata": {},
   "outputs": [
    {
     "data": {
      "text/plain": [
       "count    25060.000000\n",
       "mean         2.953911\n",
       "std          0.872670\n",
       "min          1.000000\n",
       "25%          3.000000\n",
       "50%          3.000000\n",
       "75%          3.000000\n",
       "max          9.000000\n",
       "Name: q1AgeBeginCoding, dtype: float64"
      ]
     },
     "execution_count": 10,
     "metadata": {},
     "output_type": "execute_result"
    }
   ],
   "source": [
    "numeric.q1AgeBeginCoding.describe()"
   ]
  },
  {
   "cell_type": "code",
   "execution_count": 11,
   "metadata": {},
   "outputs": [
    {
     "data": {
      "text/plain": [
       "RespondentID                       0\n",
       "StartDate                          0\n",
       "EndDate                            0\n",
       "CountryNumeric2                 3991\n",
       "q1AgeBeginCoding                  30\n",
       "q2Age                             41\n",
       "q3Gender                          69\n",
       "q4Education                      305\n",
       "q0004_other                    24630\n",
       "q5DegreeFocus                    162\n",
       "q0005_other                    23375\n",
       "q6LearnCodeUni                     0\n",
       "q6LearnCodeSelfTaught              0\n",
       "q6LearnCodeAccelTrain              0\n",
       "q6LearnCodeDontKnowHowToYet        0\n",
       "q6LearnCodeOther                   0\n",
       "q0006_other                    24601\n",
       "q7Level1                           0\n",
       "q8JobLevel                         0\n",
       "q0008_other                    24133\n",
       "q8Student                          0\n",
       "q9CurrentRole                     35\n",
       "q0009_other                    24046\n",
       "q10Industry                      674\n",
       "q0010_other                    21578\n",
       "q12JobCritPrefTechStack            0\n",
       "q12JobCritCompMission              0\n",
       "q12JobCritCompCulture              0\n",
       "q12JobCritWorkLifeBal              0\n",
       "q12JobCritCompensation             0\n",
       "                               ...  \n",
       "q29FrameLoveDjango                 0\n",
       "q29FrameLovePyramid                0\n",
       "q29FrameLoveRubyonRails            0\n",
       "q29FrameLovePadrino                0\n",
       "q29FrameLoveASP                    0\n",
       "q29FrameLoveNetCore                0\n",
       "q29FrameLoveNodeDotjs              0\n",
       "q29FrameLoveExpressJS              0\n",
       "q29FrameLoveMeteor                 0\n",
       "q29FrameLoveCocoa                  0\n",
       "q29FrameLoveReactNative            0\n",
       "q29FrameLoveRubyMotion             0\n",
       "q0029_other                    24423\n",
       "q30LearnCodeStackOverflow          0\n",
       "q30LearnCodeYoutube                0\n",
       "q30LearnCodeMOOC                   0\n",
       "q30LearnCodeCompCodingSites        0\n",
       "q30LearnCodeOnlineTutorial         0\n",
       "q30LearnCodeBooks                  0\n",
       "q30LearnCodeAcademicPaper          0\n",
       "q30LearnCodeOther                  0\n",
       "q0030_other                    23867\n",
       "q31Level3                          0\n",
       "q32RecommendHackerRank           110\n",
       "q0032_other                    24708\n",
       "q33HackerRankChallforJob         186\n",
       "q34PositiveExp                 16073\n",
       "q34IdealLengHackerRankTest     14955\n",
       "q0035_other                    24881\n",
       "q36Level4                        163\n",
       "Length: 251, dtype: int64"
      ]
     },
     "execution_count": 11,
     "metadata": {},
     "output_type": "execute_result"
    }
   ],
   "source": [
    "numeric.isnull().sum()"
   ]
  },
  {
   "cell_type": "code",
   "execution_count": 12,
   "metadata": {
    "collapsed": true
   },
   "outputs": [],
   "source": [
    "values.fillna('Not Given')\n",
    "numeric=numeric.fillna(-1)"
   ]
  },
  {
   "cell_type": "code",
   "execution_count": 49,
   "metadata": {},
   "outputs": [
    {
     "data": {
      "text/plain": [
       "array(['RespondentID', 'StartDate', 'EndDate', 'CountryNumeric2',\n",
       "       'q1AgeBeginCoding', 'q2Age', 'q3Gender', 'q4Education',\n",
       "       'q0004_other', 'q5DegreeFocus', 'q0005_other', 'q6LearnCodeUni',\n",
       "       'q6LearnCodeSelfTaught', 'q6LearnCodeAccelTrain',\n",
       "       'q6LearnCodeDontKnowHowToYet', 'q6LearnCodeOther', 'q0006_other',\n",
       "       'q7Level1', 'q8JobLevel', 'q0008_other', 'q8Student',\n",
       "       'q9CurrentRole', 'q0009_other', 'q10Industry', 'q0010_other',\n",
       "       'q12JobCritPrefTechStack', 'q12JobCritCompMission',\n",
       "       'q12JobCritCompCulture', 'q12JobCritWorkLifeBal',\n",
       "       'q12JobCritCompensation', 'q12JobCritProximity', 'q12JobCritPerks',\n",
       "       'q12JobCritSmartPeopleTeam', 'q12JobCritImpactwithProduct',\n",
       "       'q12JobCritInterestProblems', 'q12JobCritFundingandValuation',\n",
       "       'q12JobCritStability', 'q12JobCritProfGrowth', 'q12JobCritOther',\n",
       "       'q0012_other', 'q13EmpMeasWhiteboard', 'q13EmpMeasHackerRank',\n",
       "       'q13EmpMeasOtherCodingChallenge', 'q13EmpMeasTechPhoneInt',\n",
       "       'q13EmpMeasTakeHomeProject', 'q13EmpMeasResume',\n",
       "       'q13EmpMeasPastWork', 'q13EmpMeasOther', 'q0013_other',\n",
       "       'q14GoodReflecAbilities', 'q15Level2', 'q16HiringManager',\n",
       "       'q17HirChaInterviews', 'q17HirChaHardAssessSkills',\n",
       "       'q17HirChaNotEnoughTalent', 'q17HirChaNoDiversCandidates',\n",
       "       'q17HirChaCompfromCompanies', 'q17HirChaJobDescript',\n",
       "       'q17HirChaOther', 'q0017_other', 'q18NumDevelopHireWithinNextYear',\n",
       "       'q19TalToolResumeScreen', 'q19TalToolReferral',\n",
       "       'q19TalToolHackerRank', 'q19TalToolOtherProbSolv',\n",
       "       'q19TalToolPersTest', 'q19TalToolRemoteorLiveIntTool',\n",
       "       'q19TalToolOutsourceHumIntPanel', 'q19TalToolOther', 'q0019_other',\n",
       "       'q20CandYearExp', 'q20CandCompScienceDegree',\n",
       "       'q20CandCodingBootcamp', 'q20CandSkillCert',\n",
       "       'q20CandHackerRankActivity', 'q20CandOtherCodingCommAct',\n",
       "       'q20CandGithubPersProj', 'q20CandOpenSourceContrib',\n",
       "       'q20CandHackathonPart', 'q20CandPrevWorkExp',\n",
       "       'q20CandPrestigeDegree', 'q20CandLinkInSkills',\n",
       "       'q20CandGithubPersProj2', 'q20Other', 'q0020_other',\n",
       "       'q21CoreCompProbSolv', 'q21CoreCompProgLang',\n",
       "       'q21CoreCompFrameworkProf', 'q21CoreCompDebugging',\n",
       "       'q21CoreCompCodebaseNav', 'q21CoreCompPerfOpt',\n",
       "       'q21CoreCompCodeReview', 'q21CoreCompDatabaseDesign',\n",
       "       'q21CoreCompSysDesign', 'q21CoreCompTesting', 'q22LangProfAgnostic',\n",
       "       'q22LangProfC', 'q22LangProfCPlusPlus', 'q22LangProfJava',\n",
       "       'q22LangProfPython', 'q22LangProfRuby', 'q22LangProfJavascript',\n",
       "       'q22LangProfCSharp', 'q22LangProfGo', 'q22LangProfScala',\n",
       "       'q22LangProfPerl', 'q22LangProfSwift', 'q22LangProfPascal',\n",
       "       'q22LangProfClojure', 'q22LangProfPHP', 'q22LangProfHaskell',\n",
       "       'q22LangProfLua', 'q22LangProfR', 'q22LangProfOther', 'q0022_other',\n",
       "       'q23FrameAngularJS', 'q23FrameReact', 'q23FrameVueDotJS',\n",
       "       'q23FrameEmber', 'q23FrameBackboneDotJS', 'q23FrameSpring',\n",
       "       'q23FrameJSF', 'q23FrameStruts', 'q23FrameNodeDotJS',\n",
       "       'q23FrameExpressJS', 'q23FrameMeteor', 'q23FrameDjango',\n",
       "       'q23FramePyramid', 'q23FrameRubyonRails', 'q23FramePadrino',\n",
       "       'q23FrameASP', 'q23FrameNetCore', 'q23FrameCocoa',\n",
       "       'q23FrameReactNative', 'q23FrameRubyMotion', 'q23FrameOther',\n",
       "       'q0023_other', 'q24VimorEmacs', 'q0024_other', 'q25LangC',\n",
       "       'q25LangCPlusPlus', 'q25LangJava', 'q25LangPython', 'q25LangRuby',\n",
       "       'q25LangJavascript', 'q25LangCSharp', 'q25LangGo', 'q25Scala',\n",
       "       'q25LangPerl', 'q25LangSwift', 'q25LangPascal', 'q25LangClojure',\n",
       "       'q25LangPHP', 'q25LangHaskell', 'q25LangLua', 'q25LangR',\n",
       "       'q25LangRust', 'q25LangTypescript', 'q25LangKotlin', 'q25LangJulia',\n",
       "       'q25LangErlang', 'q25LangOcaml', 'q25LangOther',\n",
       "       'q26FrameLearnAngularJS', 'q26FrameLearnReact',\n",
       "       'q26FrameLearnVueDotjs', 'q26FrameLearnEmber',\n",
       "       'q26FrameLearnBackboneDotjs', 'q26FrameLearnSpring',\n",
       "       'q26FrameLearnJSF', 'q26FrameLearnStruts', 'q26FrameLearnDjango',\n",
       "       'q26FrameLearnPyramid', 'q26FrameLearnRubyonRails',\n",
       "       'q26FrameLearnPadrino', 'q26FrameLearnASP', 'q26FrameLearnNetCore',\n",
       "       'q26FrameLearnNodeDotjs', 'q26FrameLearnExpressJS',\n",
       "       'q26FrameLearnMetero', 'q26FrameLearnCocoa',\n",
       "       'q26FrameLearnReactNative', 'q26FrameLearnRubyMotion',\n",
       "       'q26FrameLearnPadrino2', 'q26FrameLearnDjango2',\n",
       "       'q26FrameLearnPyramid2', 'q0026_other', 'q27EmergingTechSkill',\n",
       "       'q0027_other', 'q28LoveC', 'q28LoveCPlusPlus', 'q28LoveJava',\n",
       "       'q28LovePython', 'q28LoveRuby', 'q28LoveJavascript',\n",
       "       'q28LoveCSharp', 'q28LoveGo', 'q28LoveScala', 'q28LovePerl',\n",
       "       'q28LoveSwift', 'q28LovePascal', 'q28LoveClojure', 'q28LovePHP',\n",
       "       'q28LoveHaskell', 'q28LoveLua', 'q28LoveR', 'q28LoveRust',\n",
       "       'q28LoveKotlin', 'q28LoveTypescript', 'q28LoveErlang',\n",
       "       'q28LoveJulia', 'q28LoveOCaml', 'q28LoveOther',\n",
       "       'q29FrameLoveAngularJS', 'q29FrameLoveReact',\n",
       "       'q29FrameLoveVuedotjs', 'q29FrameLoveEmber',\n",
       "       'q29FrameLoveBackboneDotjs', 'q29FrameLoveSpring',\n",
       "       'q29FrameLoveJSF', 'q29FrameLoveStruts', 'q29FrameLoveDjango',\n",
       "       'q29FrameLovePyramid', 'q29FrameLoveRubyonRails',\n",
       "       'q29FrameLovePadrino', 'q29FrameLoveASP', 'q29FrameLoveNetCore',\n",
       "       'q29FrameLoveNodeDotjs', 'q29FrameLoveExpressJS',\n",
       "       'q29FrameLoveMeteor', 'q29FrameLoveCocoa',\n",
       "       'q29FrameLoveReactNative', 'q29FrameLoveRubyMotion', 'q0029_other',\n",
       "       'q30LearnCodeStackOverflow', 'q30LearnCodeYoutube',\n",
       "       'q30LearnCodeMOOC', 'q30LearnCodeCompCodingSites',\n",
       "       'q30LearnCodeOnlineTutorial', 'q30LearnCodeBooks',\n",
       "       'q30LearnCodeAcademicPaper', 'q30LearnCodeOther', 'q0030_other',\n",
       "       'q31Level3', 'q32RecommendHackerRank', 'q0032_other',\n",
       "       'q33HackerRankChallforJob', 'q34PositiveExp',\n",
       "       'q34IdealLengHackerRankTest', 'q0035_other', 'q36Level4'], dtype=object)"
      ]
     },
     "execution_count": 49,
     "metadata": {},
     "output_type": "execute_result"
    }
   ],
   "source": [
    "tot_columns=values.columns.ravel()\n",
    "tot_columns"
   ]
  },
  {
   "cell_type": "code",
   "execution_count": 22,
   "metadata": {},
   "outputs": [
    {
     "data": {
      "text/plain": [
       "True"
      ]
     },
     "execution_count": 22,
     "metadata": {},
     "output_type": "execute_result"
    }
   ],
   "source": [
    "'CountryNumeric2' in tot_columns"
   ]
  },
  {
   "cell_type": "code",
   "execution_count": 41,
   "metadata": {},
   "outputs": [
    {
     "data": {
      "text/plain": [
       "Text(0.5,1,'Top 10 Countries')"
      ]
     },
     "execution_count": 41,
     "metadata": {},
     "output_type": "execute_result"
    },
    {
     "data": {
      "image/png": "[encoded data removed]",
      "text/plain": [
       "<matplotlib.figure.Figure at 0x1d43cfccc18>"
      ]
     },
     "metadata": {},
     "output_type": "display_data"
    }
   ],
   "source": [
    "top_countries=values['CountryNumeric2'].value_counts().head(10)\n",
    "plt.figure(figsize=(15,8))\n",
    "plt.tick_params(labelsize=11)\n",
    "sns.barplot(x=top_countries.index,y=top_countries.values)\n",
    "plt.xlabel(\"Country\")\n",
    "plt.ylabel(\"Number of respondents\")\n",
    "plt.title(\"Top 10 Countries\")"
   ]
  },
  {
   "cell_type": "code",
   "execution_count": 46,
   "metadata": {},
   "outputs": [
    {
     "data": {
      "text/plain": [
       "<matplotlib.axes._subplots.AxesSubplot at 0x1d43c4957b8>"
      ]
     },
     "execution_count": 46,
     "metadata": {},
     "output_type": "execute_result"
    },
    {
     "data": {
      "image/png": "[encoded data removed]",
      "text/plain": [
       "<matplotlib.figure.Figure at 0x1d43c471390>"
      ]
     },
     "metadata": {},
     "output_type": "display_data"
    }
   ],
   "source": [
    "gender=values.q3Gender.value_counts()\n",
    "plt.figure(figsize=(12,10))\n",
    "sns.barplot(gender.index,gender.values)"
   ]
  },
  {
   "cell_type": "markdown",
   "metadata": {},
   "source": [
    "Woah, we need more female developers I guess"
   ]
  },
  {
   "cell_type": "code",
   "execution_count": 48,
   "metadata": {},
   "outputs": [
    {
     "data": {
      "text/plain": [
       "Text(0,0.5,'Education')"
      ]
     },
     "execution_count": 48,
     "metadata": {},
     "output_type": "execute_result"
    },
    {
     "data": {
      "image/png": "[encoded data removed]",
      "text/plain": [
       "<matplotlib.figure.Figure at 0x1d43c452a58>"
      ]
     },
     "metadata": {},
     "output_type": "display_data"
    }
   ],
   "source": [
    "highest_education = values['q4Education'].value_counts().head()\n",
    "plt.figure(figsize=(12,8))\n",
    "sns.barplot(highest_education.values,highest_education.index)\n",
    "plt.xlabel(\"Number of respondents\")\n",
    "plt.ylabel(\"Education\")"
   ]
  },
  {
   "cell_type": "code",
   "execution_count": 58,
   "metadata": {},
   "outputs": [
    {
     "data": {
      "text/plain": [
       "Index(['q25LangC', 'q25LangCPlusPlus', 'q25LangJava', 'q25LangPython',\n",
       "       'q25LangRuby', 'q25LangJavascript', 'q25LangCSharp', 'q25LangGo',\n",
       "       'q25Scala', 'q25LangPerl', 'q25LangSwift', 'q25LangPascal',\n",
       "       'q25LangClojure', 'q25LangPHP', 'q25LangHaskell', 'q25LangLua',\n",
       "       'q25LangR', 'q25LangRust', 'q25LangTypescript', 'q25LangKotlin',\n",
       "       'q25LangJulia', 'q25LangErlang', 'q25LangOcaml'],\n",
       "      dtype='object')"
      ]
     },
     "execution_count": 58,
     "metadata": {},
     "output_type": "execute_result"
    }
   ],
   "source": [
    "cols=values.columns[values.columns.str.startswith('q25')]\n",
    "cols"
   ]
  },
  {
   "cell_type": "code",
   "execution_count": 57,
   "metadata": {},
   "outputs": [],
   "source": [
    "values.drop(['q25LangOther'],axis=1,inplace=True)"
   ]
  },
  {
   "cell_type": "code",
   "execution_count": null,
   "metadata": {
    "collapsed": true
   },
   "outputs": [],
   "source": []
  }
 ],
 "metadata": {
  "kernelspec": {
   "display_name": "Python 3",
   "language": "python",
   "name": "python3"
  },
  "language_info": {
   "codemirror_mode": {
    "name": "ipython",
    "version": 3
   },
   "file_extension": ".py",
   "mimetype": "text/x-python",
   "name": "python",
   "nbconvert_exporter": "python",
   "pygments_lexer": "ipython3",
   "version": "3.6.3"
  }
 },
 "nbformat": 4,
 "nbformat_minor": 2
}
